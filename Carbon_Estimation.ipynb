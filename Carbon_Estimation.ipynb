{
 "cells": [
  {
   "cell_type": "code",
   "execution_count": 1,
   "id": "009e4782-e408-4032-831e-43103f11d7a2",
   "metadata": {
    "scrolled": true
   },
   "outputs": [],
   "source": [
    "import ee\n",
    "import geemap"
   ]
  },
  {
   "cell_type": "markdown",
   "id": "76d92a4e-b02a-48ad-b024-7191957331bd",
   "metadata": {
    "scrolled": true
   },
   "source": [
    "### Initialize the Earth Engine API - automatically authenticates if not already initialized"
   ]
  },
  {
   "cell_type": "code",
   "execution_count": 2,
   "id": "5e7fcf52-d39a-4823-a9d8-ad36095b60fe",
   "metadata": {
    "scrolled": true
   },
   "outputs": [
    {
     "data": {
      "text/html": [
       "\n",
       "            <style>\n",
       "                .geemap-dark {\n",
       "                    --jp-widgets-color: white;\n",
       "                    --jp-widgets-label-color: white;\n",
       "                    --jp-ui-font-color1: white;\n",
       "                    --jp-layout-color2: #454545;\n",
       "                    background-color: #383838;\n",
       "                }\n",
       "\n",
       "                .geemap-dark .jupyter-button {\n",
       "                    --jp-layout-color3: #383838;\n",
       "                }\n",
       "\n",
       "                .geemap-colab {\n",
       "                    background-color: var(--colab-primary-surface-color, white);\n",
       "                }\n",
       "\n",
       "                .geemap-colab .jupyter-button {\n",
       "                    --jp-layout-color3: var(--colab-primary-surface-color, white);\n",
       "                }\n",
       "            </style>\n",
       "            "
      ],
      "text/plain": [
       "<IPython.core.display.HTML object>"
      ]
     },
     "metadata": {},
     "output_type": "display_data"
    }
   ],
   "source": [
    "try:\n",
    "    ee.Initialize()\n",
    "except Exception:\n",
    "    ee.Authenticate()\n",
    "    ee.Initialize()"
   ]
  },
  {
   "cell_type": "markdown",
   "id": "c48fc1d1-df06-404c-a943-74734bf6a2a1",
   "metadata": {
    "scrolled": true
   },
   "source": [
    "### Load the administrative boundary of Germany from the FAO GAUL database"
   ]
  },
  {
   "cell_type": "code",
   "execution_count": 3,
   "id": "aa1a7159-67d6-4f2c-87cf-d39141139fd1",
   "metadata": {
    "scrolled": true
   },
   "outputs": [
    {
     "data": {
      "text/html": [
       "\n",
       "            <style>\n",
       "                .geemap-dark {\n",
       "                    --jp-widgets-color: white;\n",
       "                    --jp-widgets-label-color: white;\n",
       "                    --jp-ui-font-color1: white;\n",
       "                    --jp-layout-color2: #454545;\n",
       "                    background-color: #383838;\n",
       "                }\n",
       "\n",
       "                .geemap-dark .jupyter-button {\n",
       "                    --jp-layout-color3: #383838;\n",
       "                }\n",
       "\n",
       "                .geemap-colab {\n",
       "                    background-color: var(--colab-primary-surface-color, white);\n",
       "                }\n",
       "\n",
       "                .geemap-colab .jupyter-button {\n",
       "                    --jp-layout-color3: var(--colab-primary-surface-color, white);\n",
       "                }\n",
       "            </style>\n",
       "            "
      ],
      "text/plain": [
       "<IPython.core.display.HTML object>"
      ]
     },
     "metadata": {},
     "output_type": "display_data"
    }
   ],
   "source": [
    "germany = ee.FeatureCollection(\"FAO/GAUL_SIMPLIFIED_500m/2015/level0\") \\\n",
    "    .filter(ee.Filter.eq('ADM0_NAME', 'Germany'))"
   ]
  },
  {
   "cell_type": "markdown",
   "id": "867f58e1-bd6a-4392-812a-47eb9be7cd7f",
   "metadata": {
    "scrolled": true
   },
   "source": [
    "### Load and preprocess Landsat 8 Collection 2 imagery:\n",
    " - Filter by date (summer 2019) for optimal vegetation conditions\n",
    " - Filter by cloud cover (<30%) to ensure clear imagery\n",
    " - Select surface reflectance bands for analysis\n",
    " - Create median composite to remove anomalies and cloud remnants\n",
    " - Scale pixel values to 0-1 range (divide by 10000)"
   ]
  },
  {
   "cell_type": "code",
   "execution_count": 4,
   "id": "1d1fa3f7-1e0d-4a70-845a-2383838857d7",
   "metadata": {
    "scrolled": true
   },
   "outputs": [
    {
     "data": {
      "text/html": [
       "\n",
       "            <style>\n",
       "                .geemap-dark {\n",
       "                    --jp-widgets-color: white;\n",
       "                    --jp-widgets-label-color: white;\n",
       "                    --jp-ui-font-color1: white;\n",
       "                    --jp-layout-color2: #454545;\n",
       "                    background-color: #383838;\n",
       "                }\n",
       "\n",
       "                .geemap-dark .jupyter-button {\n",
       "                    --jp-layout-color3: #383838;\n",
       "                }\n",
       "\n",
       "                .geemap-colab {\n",
       "                    background-color: var(--colab-primary-surface-color, white);\n",
       "                }\n",
       "\n",
       "                .geemap-colab .jupyter-button {\n",
       "                    --jp-layout-color3: var(--colab-primary-surface-color, white);\n",
       "                }\n",
       "            </style>\n",
       "            "
      ],
      "text/plain": [
       "<IPython.core.display.HTML object>"
      ]
     },
     "metadata": {},
     "output_type": "display_data"
    }
   ],
   "source": [
    "landsat = ee.ImageCollection(\"LANDSAT/LC08/C02/T1_L2\") \\\n",
    "    .filterDate('2019-06-01', '2019-09-30') \\\n",
    "    .filterBounds(germany) \\\n",
    "    .filter(ee.Filter.lt('CLOUD_COVER', 30)) \\\n",
    "    .select(['SR_B2', 'SR_B3', 'SR_B4', 'SR_B5', 'SR_B6', 'SR_B7']) \\\n",
    "    .median() \\\n",
    "    .divide(10000)"
   ]
  },
  {
   "cell_type": "markdown",
   "id": "f67c8a30-f538-4b4a-beb9-55ebbed2cc3a",
   "metadata": {
    "scrolled": true
   },
   "source": [
    "- Calculate Normalized Difference Vegetation Index (NDVI) using NIR (B5) and Red (B4) bands\n",
    "- Higher NDVI values indicate denser vegetation and potentially higher biomass"
   ]
  },
  {
   "cell_type": "code",
   "execution_count": 5,
   "id": "5d8ffd61-dff9-4278-8cbc-f7bd01c5f5a1",
   "metadata": {
    "scrolled": true
   },
   "outputs": [
    {
     "data": {
      "text/html": [
       "\n",
       "            <style>\n",
       "                .geemap-dark {\n",
       "                    --jp-widgets-color: white;\n",
       "                    --jp-widgets-label-color: white;\n",
       "                    --jp-ui-font-color1: white;\n",
       "                    --jp-layout-color2: #454545;\n",
       "                    background-color: #383838;\n",
       "                }\n",
       "\n",
       "                .geemap-dark .jupyter-button {\n",
       "                    --jp-layout-color3: #383838;\n",
       "                }\n",
       "\n",
       "                .geemap-colab {\n",
       "                    background-color: var(--colab-primary-surface-color, white);\n",
       "                }\n",
       "\n",
       "                .geemap-colab .jupyter-button {\n",
       "                    --jp-layout-color3: var(--colab-primary-surface-color, white);\n",
       "                }\n",
       "            </style>\n",
       "            "
      ],
      "text/plain": [
       "<IPython.core.display.HTML object>"
      ]
     },
     "metadata": {},
     "output_type": "display_data"
    }
   ],
   "source": [
    "ndvi = landsat.normalizedDifference(['SR_B5', 'SR_B4']).rename('NDVI')"
   ]
  },
  {
   "cell_type": "markdown",
   "id": "f3360762-23ad-4db9-b89f-b097740af2a0",
   "metadata": {
    "scrolled": true
   },
   "source": [
    "- Load the NASA/ORNL aboveground biomass carbon density dataset\n",
    "- Mask it to include only areas identified as forest in the Hansen dataset (treecover > 0%)"
   ]
  },
  {
   "cell_type": "code",
   "execution_count": 6,
   "id": "36cd9c41-a8c5-496c-a76b-a2c899923175",
   "metadata": {
    "scrolled": true
   },
   "outputs": [
    {
     "data": {
      "text/html": [
       "\n",
       "            <style>\n",
       "                .geemap-dark {\n",
       "                    --jp-widgets-color: white;\n",
       "                    --jp-widgets-label-color: white;\n",
       "                    --jp-ui-font-color1: white;\n",
       "                    --jp-layout-color2: #454545;\n",
       "                    background-color: #383838;\n",
       "                }\n",
       "\n",
       "                .geemap-dark .jupyter-button {\n",
       "                    --jp-layout-color3: #383838;\n",
       "                }\n",
       "\n",
       "                .geemap-colab {\n",
       "                    background-color: var(--colab-primary-surface-color, white);\n",
       "                }\n",
       "\n",
       "                .geemap-colab .jupyter-button {\n",
       "                    --jp-layout-color3: var(--colab-primary-surface-color, white);\n",
       "                }\n",
       "            </style>\n",
       "            "
      ],
      "text/plain": [
       "<IPython.core.display.HTML object>"
      ]
     },
     "metadata": {},
     "output_type": "display_data"
    }
   ],
   "source": [
    "carbon = ee.ImageCollection(\"NASA/ORNL/biomass_carbon_density/v1\") \\\n",
    "    .select('agb').first().rename('Carbon') \\\n",
    "    .updateMask(ee.Image(\"UMD/hansen/global_forest_change_2023_v1_11\").select('treecover2000').gt(0))"
   ]
  },
  {
   "cell_type": "markdown",
   "id": "6df35a12-bf02-42c7-8436-6e7399e49223",
   "metadata": {
    "scrolled": true
   },
   "source": [
    "- Load percent tree cover from the Hansen Global Forest Change dataset\n",
    "- This represents forest density - higher values indicate denser forests"
   ]
  },
  {
   "cell_type": "code",
   "execution_count": 7,
   "id": "21552322-9f8a-45f0-b1ee-74dc82abcca7",
   "metadata": {
    "scrolled": true
   },
   "outputs": [
    {
     "data": {
      "text/html": [
       "\n",
       "            <style>\n",
       "                .geemap-dark {\n",
       "                    --jp-widgets-color: white;\n",
       "                    --jp-widgets-label-color: white;\n",
       "                    --jp-ui-font-color1: white;\n",
       "                    --jp-layout-color2: #454545;\n",
       "                    background-color: #383838;\n",
       "                }\n",
       "\n",
       "                .geemap-dark .jupyter-button {\n",
       "                    --jp-layout-color3: #383838;\n",
       "                }\n",
       "\n",
       "                .geemap-colab {\n",
       "                    background-color: var(--colab-primary-surface-color, white);\n",
       "                }\n",
       "\n",
       "                .geemap-colab .jupyter-button {\n",
       "                    --jp-layout-color3: var(--colab-primary-surface-color, white);\n",
       "                }\n",
       "            </style>\n",
       "            "
      ],
      "text/plain": [
       "<IPython.core.display.HTML object>"
      ]
     },
     "metadata": {},
     "output_type": "display_data"
    }
   ],
   "source": [
    "treecover = ee.Image(\"UMD/hansen/global_forest_change_2023_v1_11\") \\\n",
    "    .select('treecover2000').rename('TCD')"
   ]
  },
  {
   "cell_type": "markdown",
   "id": "7a936fed-5fdb-4020-8581-eaf7bc5f5db7",
   "metadata": {},
   "source": [
    "- Load elevation data from the SRTM dataset\n",
    "- Topography influences forest growth patterns and carbon storage capacity"
   ]
  },
  {
   "cell_type": "code",
   "execution_count": 8,
   "id": "8d08883a-61ef-4214-8eec-7f54a6f2455f",
   "metadata": {
    "scrolled": true
   },
   "outputs": [
    {
     "data": {
      "text/html": [
       "\n",
       "            <style>\n",
       "                .geemap-dark {\n",
       "                    --jp-widgets-color: white;\n",
       "                    --jp-widgets-label-color: white;\n",
       "                    --jp-ui-font-color1: white;\n",
       "                    --jp-layout-color2: #454545;\n",
       "                    background-color: #383838;\n",
       "                }\n",
       "\n",
       "                .geemap-dark .jupyter-button {\n",
       "                    --jp-layout-color3: #383838;\n",
       "                }\n",
       "\n",
       "                .geemap-colab {\n",
       "                    background-color: var(--colab-primary-surface-color, white);\n",
       "                }\n",
       "\n",
       "                .geemap-colab .jupyter-button {\n",
       "                    --jp-layout-color3: var(--colab-primary-surface-color, white);\n",
       "                }\n",
       "            </style>\n",
       "            "
      ],
      "text/plain": [
       "<IPython.core.display.HTML object>"
      ]
     },
     "metadata": {},
     "output_type": "display_data"
    }
   ],
   "source": [
    "elevation = ee.Image(\"USGS/SRTMGL1_003\").select('elevation').rename('ELEVATION')"
   ]
  },
  {
   "cell_type": "markdown",
   "id": "c6d38641-7203-4443-ba5f-d8d3f2c68727",
   "metadata": {
    "scrolled": true
   },
   "source": [
    "- Combine all predictor variables (NDVI, tree cover, elevation) into a single multi-band image\n"
   ]
  },
  {
   "cell_type": "code",
   "execution_count": 9,
   "id": "d8242730-6d79-4124-a04e-61442f25f127",
   "metadata": {
    "scrolled": true
   },
   "outputs": [
    {
     "data": {
      "text/html": [
       "\n",
       "            <style>\n",
       "                .geemap-dark {\n",
       "                    --jp-widgets-color: white;\n",
       "                    --jp-widgets-label-color: white;\n",
       "                    --jp-ui-font-color1: white;\n",
       "                    --jp-layout-color2: #454545;\n",
       "                    background-color: #383838;\n",
       "                }\n",
       "\n",
       "                .geemap-dark .jupyter-button {\n",
       "                    --jp-layout-color3: #383838;\n",
       "                }\n",
       "\n",
       "                .geemap-colab {\n",
       "                    background-color: var(--colab-primary-surface-color, white);\n",
       "                }\n",
       "\n",
       "                .geemap-colab .jupyter-button {\n",
       "                    --jp-layout-color3: var(--colab-primary-surface-color, white);\n",
       "                }\n",
       "            </style>\n",
       "            "
      ],
      "text/plain": [
       "<IPython.core.display.HTML object>"
      ]
     },
     "metadata": {},
     "output_type": "display_data"
    }
   ],
   "source": [
    "input_features = ndvi.addBands([treecover, elevation])"
   ]
  },
  {
   "cell_type": "markdown",
   "id": "57a73b3b-0ae7-49bc-bd59-e8dc4a93f455",
   "metadata": {},
   "source": [
    "- Add carbon data to create a complete dataset for training and validation\n"
   ]
  },
  {
   "cell_type": "code",
   "execution_count": 10,
   "id": "b41b497f-bb34-4cca-8ac3-e60250c491d3",
   "metadata": {
    "scrolled": true
   },
   "outputs": [
    {
     "data": {
      "text/html": [
       "\n",
       "            <style>\n",
       "                .geemap-dark {\n",
       "                    --jp-widgets-color: white;\n",
       "                    --jp-widgets-label-color: white;\n",
       "                    --jp-ui-font-color1: white;\n",
       "                    --jp-layout-color2: #454545;\n",
       "                    background-color: #383838;\n",
       "                }\n",
       "\n",
       "                .geemap-dark .jupyter-button {\n",
       "                    --jp-layout-color3: #383838;\n",
       "                }\n",
       "\n",
       "                .geemap-colab {\n",
       "                    background-color: var(--colab-primary-surface-color, white);\n",
       "                }\n",
       "\n",
       "                .geemap-colab .jupyter-button {\n",
       "                    --jp-layout-color3: var(--colab-primary-surface-color, white);\n",
       "                }\n",
       "            </style>\n",
       "            "
      ],
      "text/plain": [
       "<IPython.core.display.HTML object>"
      ]
     },
     "metadata": {},
     "output_type": "display_data"
    }
   ],
   "source": [
    "input_with_carbon = input_features.addBands(carbon)"
   ]
  },
  {
   "cell_type": "markdown",
   "id": "f4cc309d-9bd1-4b71-b544-ffeecaaa1889",
   "metadata": {
    "scrolled": true
   },
   "source": [
    "- Create a random sample of 3000 forest points across Germany for model training and testing\n",
    "- Scale of 1000 meters balances detail with computational efficiency\n",
    "- dropNulls ensures we only include points with valid data in all bands"
   ]
  },
  {
   "cell_type": "code",
   "execution_count": 11,
   "id": "8aecdd1a-5079-47f0-b4da-01d5efffe62a",
   "metadata": {
    "scrolled": true
   },
   "outputs": [
    {
     "data": {
      "text/html": [
       "\n",
       "            <style>\n",
       "                .geemap-dark {\n",
       "                    --jp-widgets-color: white;\n",
       "                    --jp-widgets-label-color: white;\n",
       "                    --jp-ui-font-color1: white;\n",
       "                    --jp-layout-color2: #454545;\n",
       "                    background-color: #383838;\n",
       "                }\n",
       "\n",
       "                .geemap-dark .jupyter-button {\n",
       "                    --jp-layout-color3: #383838;\n",
       "                }\n",
       "\n",
       "                .geemap-colab {\n",
       "                    background-color: var(--colab-primary-surface-color, white);\n",
       "                }\n",
       "\n",
       "                .geemap-colab .jupyter-button {\n",
       "                    --jp-layout-color3: var(--colab-primary-surface-color, white);\n",
       "                }\n",
       "            </style>\n",
       "            "
      ],
      "text/plain": [
       "<IPython.core.display.HTML object>"
      ]
     },
     "metadata": {},
     "output_type": "display_data"
    }
   ],
   "source": [
    "training_points = input_with_carbon.sample(\n",
    "    region=germany.geometry(),\n",
    "    scale=1000,\n",
    "    numPixels=3000,\n",
    "    seed=42,\n",
    "    dropNulls=True\n",
    ")"
   ]
  },
  {
   "cell_type": "markdown",
   "id": "d36e76a8-3077-4639-81a4-30d90cd539e8",
   "metadata": {
    "scrolled": true
   },
   "source": [
    "- Split the sample data into training (70%) and testing (30%) datasets\n",
    "- This allows for independent validation of model performance"
   ]
  },
  {
   "cell_type": "code",
   "execution_count": 12,
   "id": "4b8ad3ac-9bc0-4109-b749-d1f488f6b5fc",
   "metadata": {
    "scrolled": true
   },
   "outputs": [
    {
     "data": {
      "text/html": [
       "\n",
       "            <style>\n",
       "                .geemap-dark {\n",
       "                    --jp-widgets-color: white;\n",
       "                    --jp-widgets-label-color: white;\n",
       "                    --jp-ui-font-color1: white;\n",
       "                    --jp-layout-color2: #454545;\n",
       "                    background-color: #383838;\n",
       "                }\n",
       "\n",
       "                .geemap-dark .jupyter-button {\n",
       "                    --jp-layout-color3: #383838;\n",
       "                }\n",
       "\n",
       "                .geemap-colab {\n",
       "                    background-color: var(--colab-primary-surface-color, white);\n",
       "                }\n",
       "\n",
       "                .geemap-colab .jupyter-button {\n",
       "                    --jp-layout-color3: var(--colab-primary-surface-color, white);\n",
       "                }\n",
       "            </style>\n",
       "            "
      ],
      "text/plain": [
       "<IPython.core.display.HTML object>"
      ]
     },
     "metadata": {},
     "output_type": "display_data"
    }
   ],
   "source": [
    "split = 0.7\n",
    "training_data = training_points.randomColumn('random').filter(ee.Filter.lt('random', split))\n",
    "testing_data = training_points.randomColumn('random').filter(ee.Filter.gte('random', split))"
   ]
  },
  {
   "cell_type": "markdown",
   "id": "23e90f0f-ac1a-48d8-8af8-b2c30441fb31",
   "metadata": {
    "scrolled": true
   },
   "source": [
    "- Define the predictor variables to be used in the model\n"
   ]
  },
  {
   "cell_type": "code",
   "execution_count": 13,
   "id": "86bc103d-69cb-4469-af2b-bbd6c9728892",
   "metadata": {
    "scrolled": true
   },
   "outputs": [
    {
     "data": {
      "text/html": [
       "\n",
       "            <style>\n",
       "                .geemap-dark {\n",
       "                    --jp-widgets-color: white;\n",
       "                    --jp-widgets-label-color: white;\n",
       "                    --jp-ui-font-color1: white;\n",
       "                    --jp-layout-color2: #454545;\n",
       "                    background-color: #383838;\n",
       "                }\n",
       "\n",
       "                .geemap-dark .jupyter-button {\n",
       "                    --jp-layout-color3: #383838;\n",
       "                }\n",
       "\n",
       "                .geemap-colab {\n",
       "                    background-color: var(--colab-primary-surface-color, white);\n",
       "                }\n",
       "\n",
       "                .geemap-colab .jupyter-button {\n",
       "                    --jp-layout-color3: var(--colab-primary-surface-color, white);\n",
       "                }\n",
       "            </style>\n",
       "            "
      ],
      "text/plain": [
       "<IPython.core.display.HTML object>"
      ]
     },
     "metadata": {},
     "output_type": "display_data"
    }
   ],
   "source": [
    "predictors = ['NDVI', 'TCD', 'ELEVATION']"
   ]
  },
  {
   "cell_type": "markdown",
   "id": "d5baa5e9-b4ac-4f47-a5bc-619a3e120765",
   "metadata": {},
   "source": [
    " - Configure and train a Random Forest regression model:\n",
    " - 50 trees provides a balance between accuracy and computational efficiency\n",
    " - minLeafPopulation of 5 prevents overfitting on small data subsets\n",
    " - REGRESSION output mode predicts continuous carbon values rather than classes"
   ]
  },
  {
   "cell_type": "code",
   "execution_count": 14,
   "id": "5676d243-d0f3-4eec-8bb6-23207aa3ff51",
   "metadata": {
    "scrolled": true
   },
   "outputs": [
    {
     "data": {
      "text/html": [
       "\n",
       "            <style>\n",
       "                .geemap-dark {\n",
       "                    --jp-widgets-color: white;\n",
       "                    --jp-widgets-label-color: white;\n",
       "                    --jp-ui-font-color1: white;\n",
       "                    --jp-layout-color2: #454545;\n",
       "                    background-color: #383838;\n",
       "                }\n",
       "\n",
       "                .geemap-dark .jupyter-button {\n",
       "                    --jp-layout-color3: #383838;\n",
       "                }\n",
       "\n",
       "                .geemap-colab {\n",
       "                    background-color: var(--colab-primary-surface-color, white);\n",
       "                }\n",
       "\n",
       "                .geemap-colab .jupyter-button {\n",
       "                    --jp-layout-color3: var(--colab-primary-surface-color, white);\n",
       "                }\n",
       "            </style>\n",
       "            "
      ],
      "text/plain": [
       "<IPython.core.display.HTML object>"
      ]
     },
     "metadata": {},
     "output_type": "display_data"
    }
   ],
   "source": [
    "trained_model = ee.Classifier.smileRandomForest(\n",
    "    numberOfTrees=50,\n",
    "    minLeafPopulation=5\n",
    ").setOutputMode('REGRESSION').train(\n",
    "    features=training_data,\n",
    "    classProperty='Carbon',\n",
    "    inputProperties=predictors\n",
    ")"
   ]
  },
  {
   "cell_type": "markdown",
   "id": "dcc9aa7f-cc49-48b1-9fe5-2bf4e8562935",
   "metadata": {
    "scrolled": true
   },
   "source": [
    "- Apply the trained model to the testing dataset to evaluate performance"
   ]
  },
  {
   "cell_type": "code",
   "execution_count": 15,
   "id": "05c5b767-6ebe-4a2f-a81d-7fcb56e1c12f",
   "metadata": {
    "scrolled": true
   },
   "outputs": [
    {
     "data": {
      "text/html": [
       "\n",
       "            <style>\n",
       "                .geemap-dark {\n",
       "                    --jp-widgets-color: white;\n",
       "                    --jp-widgets-label-color: white;\n",
       "                    --jp-ui-font-color1: white;\n",
       "                    --jp-layout-color2: #454545;\n",
       "                    background-color: #383838;\n",
       "                }\n",
       "\n",
       "                .geemap-dark .jupyter-button {\n",
       "                    --jp-layout-color3: #383838;\n",
       "                }\n",
       "\n",
       "                .geemap-colab {\n",
       "                    background-color: var(--colab-primary-surface-color, white);\n",
       "                }\n",
       "\n",
       "                .geemap-colab .jupyter-button {\n",
       "                    --jp-layout-color3: var(--colab-primary-surface-color, white);\n",
       "                }\n",
       "            </style>\n",
       "            "
      ],
      "text/plain": [
       "<IPython.core.display.HTML object>"
      ]
     },
     "metadata": {},
     "output_type": "display_data"
    }
   ],
   "source": [
    "test = testing_data.classify(trained_model, 'predicted_carbon')"
   ]
  },
  {
   "cell_type": "markdown",
   "id": "90980788-422f-4439-9153-040ac550841a",
   "metadata": {
    "scrolled": true
   },
   "source": [
    "- Calculate prediction errors and squared errors for each testing point\n"
   ]
  },
  {
   "cell_type": "code",
   "execution_count": 16,
   "id": "c67aa699-a5eb-4c56-8df2-45a6ecc03e43",
   "metadata": {
    "scrolled": true
   },
   "outputs": [
    {
     "data": {
      "text/html": [
       "\n",
       "            <style>\n",
       "                .geemap-dark {\n",
       "                    --jp-widgets-color: white;\n",
       "                    --jp-widgets-label-color: white;\n",
       "                    --jp-ui-font-color1: white;\n",
       "                    --jp-layout-color2: #454545;\n",
       "                    background-color: #383838;\n",
       "                }\n",
       "\n",
       "                .geemap-dark .jupyter-button {\n",
       "                    --jp-layout-color3: #383838;\n",
       "                }\n",
       "\n",
       "                .geemap-colab {\n",
       "                    background-color: var(--colab-primary-surface-color, white);\n",
       "                }\n",
       "\n",
       "                .geemap-colab .jupyter-button {\n",
       "                    --jp-layout-color3: var(--colab-primary-surface-color, white);\n",
       "                }\n",
       "            </style>\n",
       "            "
      ],
      "text/plain": [
       "<IPython.core.display.HTML object>"
      ]
     },
     "metadata": {},
     "output_type": "display_data"
    }
   ],
   "source": [
    "def addError(feature):\n",
    "    error = ee.Number(feature.get('Carbon')).subtract(ee.Number(feature.get('predicted_carbon')))\n",
    "    return feature.set({'error': error, 'error_squared': error.pow(2)})\n",
    "\n",
    "errors = test.map(addError)"
   ]
  },
  {
   "cell_type": "markdown",
   "id": "47e4ab7a-ad10-4a7a-84d1-4706a01cca1f",
   "metadata": {
    "scrolled": true
   },
   "source": [
    "- Calculate Root Mean Square Error (RMSE) - a measure of average prediction error\n"
   ]
  },
  {
   "cell_type": "code",
   "execution_count": 17,
   "id": "db3f7059-66f1-4716-9019-acedab76d032",
   "metadata": {
    "scrolled": true
   },
   "outputs": [
    {
     "data": {
      "text/html": [
       "\n",
       "            <style>\n",
       "                .geemap-dark {\n",
       "                    --jp-widgets-color: white;\n",
       "                    --jp-widgets-label-color: white;\n",
       "                    --jp-ui-font-color1: white;\n",
       "                    --jp-layout-color2: #454545;\n",
       "                    background-color: #383838;\n",
       "                }\n",
       "\n",
       "                .geemap-dark .jupyter-button {\n",
       "                    --jp-layout-color3: #383838;\n",
       "                }\n",
       "\n",
       "                .geemap-colab {\n",
       "                    background-color: var(--colab-primary-surface-color, white);\n",
       "                }\n",
       "\n",
       "                .geemap-colab .jupyter-button {\n",
       "                    --jp-layout-color3: var(--colab-primary-surface-color, white);\n",
       "                }\n",
       "            </style>\n",
       "            "
      ],
      "text/plain": [
       "<IPython.core.display.HTML object>"
      ]
     },
     "metadata": {},
     "output_type": "display_data"
    }
   ],
   "source": [
    "sum_squared_errors = errors.aggregate_sum('error_squared')\n",
    "count = errors.size()\n",
    "rmse = ee.Number(sum_squared_errors).divide(count).sqrt()"
   ]
  },
  {
   "cell_type": "markdown",
   "id": "8c1d56eb-aa85-47b5-a722-042aa6fb8c01",
   "metadata": {
    "scrolled": true
   },
   "source": [
    "- Calculate the coefficient of determination (R²) to assess model fit\n",
    "- R² measures the proportion of variance in carbon values explained by the model"
   ]
  },
  {
   "cell_type": "code",
   "execution_count": 18,
   "id": "45a1e0b2-80dc-4f31-95ae-e7ec50c2c524",
   "metadata": {
    "scrolled": true
   },
   "outputs": [
    {
     "data": {
      "text/html": [
       "\n",
       "            <style>\n",
       "                .geemap-dark {\n",
       "                    --jp-widgets-color: white;\n",
       "                    --jp-widgets-label-color: white;\n",
       "                    --jp-ui-font-color1: white;\n",
       "                    --jp-layout-color2: #454545;\n",
       "                    background-color: #383838;\n",
       "                }\n",
       "\n",
       "                .geemap-dark .jupyter-button {\n",
       "                    --jp-layout-color3: #383838;\n",
       "                }\n",
       "\n",
       "                .geemap-colab {\n",
       "                    background-color: var(--colab-primary-surface-color, white);\n",
       "                }\n",
       "\n",
       "                .geemap-colab .jupyter-button {\n",
       "                    --jp-layout-color3: var(--colab-primary-surface-color, white);\n",
       "                }\n",
       "            </style>\n",
       "            "
      ],
      "text/plain": [
       "<IPython.core.display.HTML object>"
      ]
     },
     "metadata": {},
     "output_type": "display_data"
    }
   ],
   "source": [
    "mean_observed = testing_data.aggregate_mean('Carbon')"
   ]
  },
  {
   "cell_type": "code",
   "execution_count": 19,
   "id": "147c7237-5c86-4446-8ece-2915f00e2e95",
   "metadata": {
    "scrolled": true
   },
   "outputs": [
    {
     "data": {
      "text/html": [
       "\n",
       "            <style>\n",
       "                .geemap-dark {\n",
       "                    --jp-widgets-color: white;\n",
       "                    --jp-widgets-label-color: white;\n",
       "                    --jp-ui-font-color1: white;\n",
       "                    --jp-layout-color2: #454545;\n",
       "                    background-color: #383838;\n",
       "                }\n",
       "\n",
       "                .geemap-dark .jupyter-button {\n",
       "                    --jp-layout-color3: #383838;\n",
       "                }\n",
       "\n",
       "                .geemap-colab {\n",
       "                    background-color: var(--colab-primary-surface-color, white);\n",
       "                }\n",
       "\n",
       "                .geemap-colab .jupyter-button {\n",
       "                    --jp-layout-color3: var(--colab-primary-surface-color, white);\n",
       "                }\n",
       "            </style>\n",
       "            "
      ],
      "text/plain": [
       "<IPython.core.display.HTML object>"
      ]
     },
     "metadata": {},
     "output_type": "display_data"
    }
   ],
   "source": [
    "def addTSS(feature):\n",
    "    deviation = ee.Number(feature.get('Carbon')).subtract(mean_observed)\n",
    "    return feature.set({'tss': deviation.pow(2)})\n",
    "\n",
    "tss_features = testing_data.map(addTSS)\n",
    "total_sum_squares = tss_features.aggregate_sum('tss')"
   ]
  },
  {
   "cell_type": "code",
   "execution_count": 20,
   "id": "892e8ac7-d84a-46d6-8589-2237b2b82ad8",
   "metadata": {
    "scrolled": true
   },
   "outputs": [
    {
     "data": {
      "text/html": [
       "\n",
       "            <style>\n",
       "                .geemap-dark {\n",
       "                    --jp-widgets-color: white;\n",
       "                    --jp-widgets-label-color: white;\n",
       "                    --jp-ui-font-color1: white;\n",
       "                    --jp-layout-color2: #454545;\n",
       "                    background-color: #383838;\n",
       "                }\n",
       "\n",
       "                .geemap-dark .jupyter-button {\n",
       "                    --jp-layout-color3: #383838;\n",
       "                }\n",
       "\n",
       "                .geemap-colab {\n",
       "                    background-color: var(--colab-primary-surface-color, white);\n",
       "                }\n",
       "\n",
       "                .geemap-colab .jupyter-button {\n",
       "                    --jp-layout-color3: var(--colab-primary-surface-color, white);\n",
       "                }\n",
       "            </style>\n",
       "            "
      ],
      "text/plain": [
       "<IPython.core.display.HTML object>"
      ]
     },
     "metadata": {},
     "output_type": "display_data"
    }
   ],
   "source": [
    "residual_sum_squares = errors.aggregate_sum('error_squared')\n",
    "\n",
    "r_squared = ee.Number(1).subtract(residual_sum_squares.divide(total_sum_squares))"
   ]
  },
  {
   "cell_type": "markdown",
   "id": "b4d667ba-30c1-4454-b861-5d8ed4c5a07d",
   "metadata": {
    "scrolled": true
   },
   "source": [
    "- Print model performance metrics to assess prediction accuracy"
   ]
  },
  {
   "cell_type": "code",
   "execution_count": 21,
   "id": "078dafa8-c1c2-4002-a8d0-f91254e4567d",
   "metadata": {
    "scrolled": true
   },
   "outputs": [
    {
     "data": {
      "text/html": [
       "\n",
       "            <style>\n",
       "                .geemap-dark {\n",
       "                    --jp-widgets-color: white;\n",
       "                    --jp-widgets-label-color: white;\n",
       "                    --jp-ui-font-color1: white;\n",
       "                    --jp-layout-color2: #454545;\n",
       "                    background-color: #383838;\n",
       "                }\n",
       "\n",
       "                .geemap-dark .jupyter-button {\n",
       "                    --jp-layout-color3: #383838;\n",
       "                }\n",
       "\n",
       "                .geemap-colab {\n",
       "                    background-color: var(--colab-primary-surface-color, white);\n",
       "                }\n",
       "\n",
       "                .geemap-colab .jupyter-button {\n",
       "                    --jp-layout-color3: var(--colab-primary-surface-color, white);\n",
       "                }\n",
       "            </style>\n",
       "            "
      ],
      "text/plain": [
       "<IPython.core.display.HTML object>"
      ]
     },
     "metadata": {},
     "output_type": "display_data"
    },
    {
     "name": "stdout",
     "output_type": "stream",
     "text": [
      "Forest Carbon Model Metrics:\n",
      "RMSE: 22.416481998794584 tonnes/ha\n",
      "R²: 0.6176660129348073\n"
     ]
    }
   ],
   "source": [
    "print('Forest Carbon Model Metrics:')\n",
    "print('RMSE:', rmse.getInfo(), 'tonnes/ha')\n",
    "print('R²:', r_squared.getInfo())"
   ]
  },
  {
   "cell_type": "markdown",
   "id": "a8660a97-7b0c-4af6-8207-2b7dc6b3af84",
   "metadata": {
    "scrolled": true
   },
   "source": [
    "- Apply the trained model to predict carbon density across all of Germany"
   ]
  },
  {
   "cell_type": "code",
   "execution_count": 22,
   "id": "24ea0218-878d-4c97-ba9b-ca391e9ce8bb",
   "metadata": {
    "scrolled": true
   },
   "outputs": [
    {
     "data": {
      "text/html": [
       "\n",
       "            <style>\n",
       "                .geemap-dark {\n",
       "                    --jp-widgets-color: white;\n",
       "                    --jp-widgets-label-color: white;\n",
       "                    --jp-ui-font-color1: white;\n",
       "                    --jp-layout-color2: #454545;\n",
       "                    background-color: #383838;\n",
       "                }\n",
       "\n",
       "                .geemap-dark .jupyter-button {\n",
       "                    --jp-layout-color3: #383838;\n",
       "                }\n",
       "\n",
       "                .geemap-colab {\n",
       "                    background-color: var(--colab-primary-surface-color, white);\n",
       "                }\n",
       "\n",
       "                .geemap-colab .jupyter-button {\n",
       "                    --jp-layout-color3: var(--colab-primary-surface-color, white);\n",
       "                }\n",
       "            </style>\n",
       "            "
      ],
      "text/plain": [
       "<IPython.core.display.HTML object>"
      ]
     },
     "metadata": {},
     "output_type": "display_data"
    }
   ],
   "source": [
    "carbon_prediction = input_features.classify(trained_model, 'predicted_carbon')"
   ]
  },
  {
   "cell_type": "markdown",
   "id": "f7c4474b-fb6f-4db5-a4e2-b127e8c63afa",
   "metadata": {
    "scrolled": true
   },
   "source": [
    "- Create a forest mask to limit analysis to areas with significant tree cover (>25%)\n",
    "- This threshold helps exclude sparse vegetation that isn't true forest"
   ]
  },
  {
   "cell_type": "code",
   "execution_count": 23,
   "id": "555dd93f-554e-435a-a82e-a318213599e4",
   "metadata": {
    "scrolled": true
   },
   "outputs": [
    {
     "data": {
      "text/html": [
       "\n",
       "            <style>\n",
       "                .geemap-dark {\n",
       "                    --jp-widgets-color: white;\n",
       "                    --jp-widgets-label-color: white;\n",
       "                    --jp-ui-font-color1: white;\n",
       "                    --jp-layout-color2: #454545;\n",
       "                    background-color: #383838;\n",
       "                }\n",
       "\n",
       "                .geemap-dark .jupyter-button {\n",
       "                    --jp-layout-color3: #383838;\n",
       "                }\n",
       "\n",
       "                .geemap-colab {\n",
       "                    background-color: var(--colab-primary-surface-color, white);\n",
       "                }\n",
       "\n",
       "                .geemap-colab .jupyter-button {\n",
       "                    --jp-layout-color3: var(--colab-primary-surface-color, white);\n",
       "                }\n",
       "            </style>\n",
       "            "
      ],
      "text/plain": [
       "<IPython.core.display.HTML object>"
      ]
     },
     "metadata": {},
     "output_type": "display_data"
    }
   ],
   "source": [
    "forest_mask = treecover.gt(30)  # Only areas with tree cover"
   ]
  },
  {
   "cell_type": "markdown",
   "id": "b6a5b4ae-f678-4757-8d6c-eb5a656c861f",
   "metadata": {
    "scrolled": true
   },
   "source": [
    "- Calculate total forest area by summing pixels identified as forest\n",
    "- Convert pixel areas to km² for reporting"
   ]
  },
  {
   "cell_type": "code",
   "execution_count": 24,
   "id": "ea918f39-5eca-46bc-b717-5769c1f04afb",
   "metadata": {
    "scrolled": true
   },
   "outputs": [
    {
     "data": {
      "text/html": [
       "\n",
       "            <style>\n",
       "                .geemap-dark {\n",
       "                    --jp-widgets-color: white;\n",
       "                    --jp-widgets-label-color: white;\n",
       "                    --jp-ui-font-color1: white;\n",
       "                    --jp-layout-color2: #454545;\n",
       "                    background-color: #383838;\n",
       "                }\n",
       "\n",
       "                .geemap-dark .jupyter-button {\n",
       "                    --jp-layout-color3: #383838;\n",
       "                }\n",
       "\n",
       "                .geemap-colab {\n",
       "                    background-color: var(--colab-primary-surface-color, white);\n",
       "                }\n",
       "\n",
       "                .geemap-colab .jupyter-button {\n",
       "                    --jp-layout-color3: var(--colab-primary-surface-color, white);\n",
       "                }\n",
       "            </style>\n",
       "            "
      ],
      "text/plain": [
       "<IPython.core.display.HTML object>"
      ]
     },
     "metadata": {},
     "output_type": "display_data"
    }
   ],
   "source": [
    "forest_area_result = forest_mask.rename('forest_area').multiply(ee.Image.pixelArea()).reduceRegion(\n",
    "    reducer=ee.Reducer.sum(),\n",
    "    geometry=germany.geometry(),\n",
    "    scale=1000,\n",
    "    maxPixels=1e10\n",
    ").getInfo()"
   ]
  },
  {
   "cell_type": "code",
   "execution_count": 25,
   "id": "28a9f3a5-5d57-4412-9907-031ca4bb3797",
   "metadata": {
    "scrolled": true
   },
   "outputs": [
    {
     "data": {
      "text/html": [
       "\n",
       "            <style>\n",
       "                .geemap-dark {\n",
       "                    --jp-widgets-color: white;\n",
       "                    --jp-widgets-label-color: white;\n",
       "                    --jp-ui-font-color1: white;\n",
       "                    --jp-layout-color2: #454545;\n",
       "                    background-color: #383838;\n",
       "                }\n",
       "\n",
       "                .geemap-dark .jupyter-button {\n",
       "                    --jp-layout-color3: #383838;\n",
       "                }\n",
       "\n",
       "                .geemap-colab {\n",
       "                    background-color: var(--colab-primary-surface-color, white);\n",
       "                }\n",
       "\n",
       "                .geemap-colab .jupyter-button {\n",
       "                    --jp-layout-color3: var(--colab-primary-surface-color, white);\n",
       "                }\n",
       "            </style>\n",
       "            "
      ],
      "text/plain": [
       "<IPython.core.display.HTML object>"
      ]
     },
     "metadata": {},
     "output_type": "display_data"
    }
   ],
   "source": [
    "forest_area_km2 = forest_area_result['forest_area'] / 1e6  # Convert to km²"
   ]
  },
  {
   "cell_type": "markdown",
   "id": "49a03cc6-6936-4c54-aea7-498cd0d18988",
   "metadata": {},
   "source": [
    "- Calculate mean carbon density and total carbon stock across Germany's forest"
   ]
  },
  {
   "cell_type": "code",
   "execution_count": 26,
   "id": "9dbc00e1-b849-414b-8c14-0f9c207bef8a",
   "metadata": {
    "scrolled": true
   },
   "outputs": [
    {
     "data": {
      "text/html": [
       "\n",
       "            <style>\n",
       "                .geemap-dark {\n",
       "                    --jp-widgets-color: white;\n",
       "                    --jp-widgets-label-color: white;\n",
       "                    --jp-ui-font-color1: white;\n",
       "                    --jp-layout-color2: #454545;\n",
       "                    background-color: #383838;\n",
       "                }\n",
       "\n",
       "                .geemap-dark .jupyter-button {\n",
       "                    --jp-layout-color3: #383838;\n",
       "                }\n",
       "\n",
       "                .geemap-colab {\n",
       "                    background-color: var(--colab-primary-surface-color, white);\n",
       "                }\n",
       "\n",
       "                .geemap-colab .jupyter-button {\n",
       "                    --jp-layout-color3: var(--colab-primary-surface-color, white);\n",
       "                }\n",
       "            </style>\n",
       "            "
      ],
      "text/plain": [
       "<IPython.core.display.HTML object>"
      ]
     },
     "metadata": {},
     "output_type": "display_data"
    }
   ],
   "source": [
    "stats = carbon_prediction.updateMask(forest_mask).reduceRegion(\n",
    "    reducer=ee.Reducer.mean().combine(\n",
    "        reducer2=ee.Reducer.sum(),\n",
    "        sharedInputs=True\n",
    "    ),\n",
    "    geometry=germany.geometry(),\n",
    "    scale=1000,\n",
    "    maxPixels=1e10\n",
    ").getInfo()"
   ]
  },
  {
   "cell_type": "code",
   "execution_count": 27,
   "id": "aa138bf1-db79-4c6c-8d0e-c62c3d7fd1a0",
   "metadata": {
    "scrolled": true
   },
   "outputs": [
    {
     "data": {
      "text/html": [
       "\n",
       "            <style>\n",
       "                .geemap-dark {\n",
       "                    --jp-widgets-color: white;\n",
       "                    --jp-widgets-label-color: white;\n",
       "                    --jp-ui-font-color1: white;\n",
       "                    --jp-layout-color2: #454545;\n",
       "                    background-color: #383838;\n",
       "                }\n",
       "\n",
       "                .geemap-dark .jupyter-button {\n",
       "                    --jp-layout-color3: #383838;\n",
       "                }\n",
       "\n",
       "                .geemap-colab {\n",
       "                    background-color: var(--colab-primary-surface-color, white);\n",
       "                }\n",
       "\n",
       "                .geemap-colab .jupyter-button {\n",
       "                    --jp-layout-color3: var(--colab-primary-surface-color, white);\n",
       "                }\n",
       "            </style>\n",
       "            "
      ],
      "text/plain": [
       "<IPython.core.display.HTML object>"
      ]
     },
     "metadata": {},
     "output_type": "display_data"
    }
   ],
   "source": [
    "mean_carbon = stats['predicted_carbon_mean']\n",
    "total_carbon = stats['predicted_carbon_sum']"
   ]
  },
  {
   "cell_type": "markdown",
   "id": "c252d716-efde-402f-bae5-069e2deb7754",
   "metadata": {},
   "source": [
    "- Print summary statistics for Germany's forest carbon"
   ]
  },
  {
   "cell_type": "code",
   "execution_count": 28,
   "id": "10e38dba-9321-40b0-b22e-d842d03b2b36",
   "metadata": {
    "scrolled": true
   },
   "outputs": [
    {
     "data": {
      "text/html": [
       "\n",
       "            <style>\n",
       "                .geemap-dark {\n",
       "                    --jp-widgets-color: white;\n",
       "                    --jp-widgets-label-color: white;\n",
       "                    --jp-ui-font-color1: white;\n",
       "                    --jp-layout-color2: #454545;\n",
       "                    background-color: #383838;\n",
       "                }\n",
       "\n",
       "                .geemap-dark .jupyter-button {\n",
       "                    --jp-layout-color3: #383838;\n",
       "                }\n",
       "\n",
       "                .geemap-colab {\n",
       "                    background-color: var(--colab-primary-surface-color, white);\n",
       "                }\n",
       "\n",
       "                .geemap-colab .jupyter-button {\n",
       "                    --jp-layout-color3: var(--colab-primary-surface-color, white);\n",
       "                }\n",
       "            </style>\n",
       "            "
      ],
      "text/plain": [
       "<IPython.core.display.HTML object>"
      ]
     },
     "metadata": {},
     "output_type": "display_data"
    },
    {
     "name": "stdout",
     "output_type": "stream",
     "text": [
      "\n",
      "Forest Carbon Summary:\n",
      "Forest Area (km²): 135414.4147307172\n",
      "Mean Forest Carbon (tonnes/ha): 65.97603777984679\n",
      "Total Forest Carbon (tonnes): 14037311.47206551\n"
     ]
    }
   ],
   "source": [
    "print(\"\\nForest Carbon Summary:\")\n",
    "print(\"Forest Area (km²):\", forest_area_km2)\n",
    "print(\"Mean Forest Carbon (tonnes/ha):\", mean_carbon)\n",
    "print(\"Total Forest Carbon (tonnes):\", total_carbon)"
   ]
  },
  {
   "cell_type": "markdown",
   "id": "b50191d1-47b1-4315-b9e5-1cdd453804bc",
   "metadata": {
    "scrolled": true
   },
   "source": [
    "- Create an interactive map using geemap for visualization"
   ]
  },
  {
   "cell_type": "code",
   "execution_count": 29,
   "id": "207e3c46-2e46-449d-84a2-96e9a87fd497",
   "metadata": {
    "scrolled": true
   },
   "outputs": [
    {
     "data": {
      "text/html": [
       "\n",
       "            <style>\n",
       "                .geemap-dark {\n",
       "                    --jp-widgets-color: white;\n",
       "                    --jp-widgets-label-color: white;\n",
       "                    --jp-ui-font-color1: white;\n",
       "                    --jp-layout-color2: #454545;\n",
       "                    background-color: #383838;\n",
       "                }\n",
       "\n",
       "                .geemap-dark .jupyter-button {\n",
       "                    --jp-layout-color3: #383838;\n",
       "                }\n",
       "\n",
       "                .geemap-colab {\n",
       "                    background-color: var(--colab-primary-surface-color, white);\n",
       "                }\n",
       "\n",
       "                .geemap-colab .jupyter-button {\n",
       "                    --jp-layout-color3: var(--colab-primary-surface-color, white);\n",
       "                }\n",
       "            </style>\n",
       "            "
      ],
      "text/plain": [
       "<IPython.core.display.HTML object>"
      ]
     },
     "metadata": {},
     "output_type": "display_data"
    }
   ],
   "source": [
    "Map = geemap.Map()\n",
    "Map.centerObject(germany, 6)"
   ]
  },
  {
   "cell_type": "markdown",
   "id": "3a4c5bab-22b3-4685-b3fe-9ad0ebc5f942",
   "metadata": {
    "scrolled": true
   },
   "source": [
    "- Add layers"
   ]
  },
  {
   "cell_type": "code",
   "execution_count": 30,
   "id": "53abc30a-9fa9-442c-971a-4011406b54d1",
   "metadata": {
    "scrolled": true
   },
   "outputs": [
    {
     "data": {
      "text/html": [
       "\n",
       "            <style>\n",
       "                .geemap-dark {\n",
       "                    --jp-widgets-color: white;\n",
       "                    --jp-widgets-label-color: white;\n",
       "                    --jp-ui-font-color1: white;\n",
       "                    --jp-layout-color2: #454545;\n",
       "                    background-color: #383838;\n",
       "                }\n",
       "\n",
       "                .geemap-dark .jupyter-button {\n",
       "                    --jp-layout-color3: #383838;\n",
       "                }\n",
       "\n",
       "                .geemap-colab {\n",
       "                    background-color: var(--colab-primary-surface-color, white);\n",
       "                }\n",
       "\n",
       "                .geemap-colab .jupyter-button {\n",
       "                    --jp-layout-color3: var(--colab-primary-surface-color, white);\n",
       "                }\n",
       "            </style>\n",
       "            "
      ],
      "text/plain": [
       "<IPython.core.display.HTML object>"
      ]
     },
     "metadata": {},
     "output_type": "display_data"
    }
   ],
   "source": [
    "vis_params = {\n",
    "    'min': 0,\n",
    "    'max': 150,\n",
    "    'palette': ['#ffffcc', '#c2e699', '#78c679', '#31a354', '#006837']\n",
    "}\n",
    "\n",
    "Map.addLayer(\n",
    "    carbon.clip(germany),\n",
    "    vis_params,\n",
    "    'Actual Forest Carbon (tonnes/ha)'\n",
    ")\n",
    "\n",
    "Map.addLayer(\n",
    "    carbon_prediction.updateMask(forest_mask).clip(germany),\n",
    "    vis_params,\n",
    "    'Predicted Forest Carbon (tonnes/ha)'\n",
    ")\n",
    "\n",
    "# Add legend and display\n",
    "Map.add_legend(\n",
    "    title=\"Forest Carbon (tonnes/ha)\",\n",
    "    colors=['#ffffcc', '#c2e699', '#78c679', '#31a354', '#006837'],\n",
    "    labels=['0-30', '30-60', '60-90', '90-120', '120-150']\n",
    ")\n",
    "\n",
    "Map.addLayer(\n",
    "    germany.style(**{'color': 'black', 'fillColor': '00000000'}),\n",
    "    {},\n",
    "    'Germany Boundary'\n",
    ")"
   ]
  },
  {
   "cell_type": "code",
   "execution_count": 31,
   "id": "92f558a7-5554-43dd-a238-4adc30804003",
   "metadata": {
    "scrolled": true
   },
   "outputs": [
    {
     "data": {
      "text/html": [
       "\n",
       "            <style>\n",
       "                .geemap-dark {\n",
       "                    --jp-widgets-color: white;\n",
       "                    --jp-widgets-label-color: white;\n",
       "                    --jp-ui-font-color1: white;\n",
       "                    --jp-layout-color2: #454545;\n",
       "                    background-color: #383838;\n",
       "                }\n",
       "\n",
       "                .geemap-dark .jupyter-button {\n",
       "                    --jp-layout-color3: #383838;\n",
       "                }\n",
       "\n",
       "                .geemap-colab {\n",
       "                    background-color: var(--colab-primary-surface-color, white);\n",
       "                }\n",
       "\n",
       "                .geemap-colab .jupyter-button {\n",
       "                    --jp-layout-color3: var(--colab-primary-surface-color, white);\n",
       "                }\n",
       "            </style>\n",
       "            "
      ],
      "text/plain": [
       "<IPython.core.display.HTML object>"
      ]
     },
     "metadata": {},
     "output_type": "display_data"
    },
    {
     "data": {
      "application/vnd.jupyter.widget-view+json": {
       "model_id": "61f8e3d066a94aba85bbd22cb9dc3dd5",
       "version_major": 2,
       "version_minor": 0
      },
      "text/plain": [
       "Map(center=[51.052829262339436, 10.372114873284264], controls=(WidgetControl(options=['position', 'transparent…"
      ]
     },
     "metadata": {},
     "output_type": "display_data"
    }
   ],
   "source": [
    "display(Map)"
   ]
  },
  {
   "cell_type": "code",
   "execution_count": 33,
   "id": "426af47b-0a16-48dc-98a0-8072aceae2d7",
   "metadata": {},
   "outputs": [
    {
     "data": {
      "text/html": [
       "\n",
       "            <style>\n",
       "                .geemap-dark {\n",
       "                    --jp-widgets-color: white;\n",
       "                    --jp-widgets-label-color: white;\n",
       "                    --jp-ui-font-color1: white;\n",
       "                    --jp-layout-color2: #454545;\n",
       "                    background-color: #383838;\n",
       "                }\n",
       "\n",
       "                .geemap-dark .jupyter-button {\n",
       "                    --jp-layout-color3: #383838;\n",
       "                }\n",
       "\n",
       "                .geemap-colab {\n",
       "                    background-color: var(--colab-primary-surface-color, white);\n",
       "                }\n",
       "\n",
       "                .geemap-colab .jupyter-button {\n",
       "                    --jp-layout-color3: var(--colab-primary-surface-color, white);\n",
       "                }\n",
       "            </style>\n",
       "            "
      ],
      "text/plain": [
       "<IPython.core.display.HTML object>"
      ]
     },
     "metadata": {},
     "output_type": "display_data"
    }
   ],
   "source": [
    "Map.to_html(\"Carbon_Prediction.html\")"
   ]
  },
  {
   "cell_type": "code",
   "execution_count": 34,
   "id": "007dd5f6-b721-49c4-824b-d63a053bbf7d",
   "metadata": {},
   "outputs": [
    {
     "data": {
      "text/html": [
       "\n",
       "            <style>\n",
       "                .geemap-dark {\n",
       "                    --jp-widgets-color: white;\n",
       "                    --jp-widgets-label-color: white;\n",
       "                    --jp-ui-font-color1: white;\n",
       "                    --jp-layout-color2: #454545;\n",
       "                    background-color: #383838;\n",
       "                }\n",
       "\n",
       "                .geemap-dark .jupyter-button {\n",
       "                    --jp-layout-color3: #383838;\n",
       "                }\n",
       "\n",
       "                .geemap-colab {\n",
       "                    background-color: var(--colab-primary-surface-color, white);\n",
       "                }\n",
       "\n",
       "                .geemap-colab .jupyter-button {\n",
       "                    --jp-layout-color3: var(--colab-primary-surface-color, white);\n",
       "                }\n",
       "            </style>\n",
       "            "
      ],
      "text/plain": [
       "<IPython.core.display.HTML object>"
      ]
     },
     "metadata": {},
     "output_type": "display_data"
    },
    {
     "name": "stdout",
     "output_type": "stream",
     "text": [
      "Forest Carbon Model Metrics:\n",
      "RMSE: 22.416481998794584 tonnes/ha\n",
      "R²: 0.6176660129348073\n"
     ]
    }
   ],
   "source": [
    "print('Forest Carbon Model Metrics:')\n",
    "print('RMSE:', rmse.getInfo(), 'tonnes/ha')\n",
    "print('R²:', r_squared.getInfo())"
   ]
  },
  {
   "cell_type": "code",
   "execution_count": null,
   "id": "fbe4a618-6177-4e4c-b6c9-71cd305a2383",
   "metadata": {},
   "outputs": [],
   "source": []
  }
 ],
 "metadata": {
  "kernelspec": {
   "display_name": "Python 3 (ipykernel)",
   "language": "python",
   "name": "python3"
  },
  "language_info": {
   "codemirror_mode": {
    "name": "ipython",
    "version": 3
   },
   "file_extension": ".py",
   "mimetype": "text/x-python",
   "name": "python",
   "nbconvert_exporter": "python",
   "pygments_lexer": "ipython3",
   "version": "3.12.6"
  }
 },
 "nbformat": 4,
 "nbformat_minor": 5
}
